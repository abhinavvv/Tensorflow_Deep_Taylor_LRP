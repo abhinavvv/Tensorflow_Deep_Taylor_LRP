{
 "cells": [
  {
   "cell_type": "code",
   "execution_count": null,
   "metadata": {
    "collapsed": false
   },
   "outputs": [
    {
     "name": "stdout",
     "output_type": "stream",
     "text": [
      "Extracting /tmp/tensorflow/mnist/input_data/train-images-idx3-ubyte.gz\n",
      "Extracting /tmp/tensorflow/mnist/input_data/train-labels-idx1-ubyte.gz\n",
      "Extracting /tmp/tensorflow/mnist/input_data/t10k-images-idx3-ubyte.gz\n",
      "Extracting /tmp/tensorflow/mnist/input_data/t10k-labels-idx1-ubyte.gz\n"
     ]
    }
   ],
   "source": [
    "\"\"\"\n",
    "    This is a toy example that demonstrates how we can use LRP on a convolutional neural network trained on mnist\n",
    "\"\"\"\n",
    "\n",
    "%matplotlib inline\n",
    "%load_ext autoreload\n",
    "\n",
    "%autoreload 2\n",
    "import matplotlib.pyplot as plt\n",
    "from tensorflow.examples.tutorials.mnist import input_data\n",
    "import tensorflow as tf\n",
    "import numpy as np\n",
    "from tqdm import tqdm\n",
    "import lrp\n",
    "import pandas as pd\n",
    "from pylab import rcParams\n",
    "rcParams['figure.figsize'] = 8, 10\n",
    "mnist = input_data.read_data_sets('/tmp/tensorflow/mnist/input_data', one_hot=True)\n"
   ]
  },
  {
   "cell_type": "code",
   "execution_count": null,
   "metadata": {
    "collapsed": false,
    "scrolled": true
   },
   "outputs": [
    {
     "name": "stderr",
     "output_type": "stream",
     "text": [
      " 20%|██        | 1/5 [00:57<03:49, 57.36s/it]"
     ]
    }
   ],
   "source": [
    "#Build the Convolutional Neural Network\n",
    "batch_size = 50\n",
    "total_batch = int(mnist.train.num_examples/batch_size)\n",
    "num_epochs = 5\n",
    "\n",
    "tf.reset_default_graph()\n",
    "x = tf.placeholder(tf.float32, [None, 784])\n",
    "y_ = tf.placeholder(tf.float32, [None, 10], name=\"truth\")\n",
    "\n",
    "#Set the weights for the network\n",
    "xavier = tf.contrib.layers.xavier_initializer_conv2d()  \n",
    "conv1_weights = tf.get_variable(name=\"c1\", initializer=xavier, shape=[5, 5, 1, 10])\n",
    "conv1_biases = tf.Variable(tf.zeros([10]))\n",
    "conv2_weights = tf.get_variable(name=\"c2\", initializer=xavier, shape=[5, 5, 10, 25])\n",
    "conv2_biases = tf.Variable(tf.zeros([25]))\n",
    "conv3_weights = tf.get_variable(name=\"c3\", initializer=xavier, shape=[4, 4, 25, 100])\n",
    "conv3_biases = tf.Variable(tf.zeros([100]))\n",
    "fc1_weights = tf.Variable(tf.truncated_normal([4 * 4 * 100, 10], stddev=0.1))\n",
    "fc1_biases = tf.Variable(tf.zeros([10]))\n",
    "\n",
    "#Stack the Layers\n",
    "reshaped_input = tf.reshape(x, [-1, 28, 28, 1], name=\"absolute_input\")\n",
    "#layer 1\n",
    "conv1 = tf.nn.conv2d(reshaped_input, conv1_weights, strides=[1, 1, 1, 1], padding='SAME')\n",
    "relu1 = tf.nn.relu(tf.nn.bias_add(conv1, conv1_biases))\n",
    "pool1 = tf.nn.max_pool(relu1, ksize=[1, 2, 2, 1], strides=[1, 2, 2, 1],  padding='SAME')\n",
    "#layer 2\n",
    "conv2 = tf.nn.conv2d(pool1, conv2_weights, strides=[1, 1, 1, 1], padding='SAME')\n",
    "relu2 = tf.nn.relu(tf.nn.bias_add(conv2, conv2_biases))\n",
    "pool2 = tf.nn.max_pool(relu2, ksize=[1, 2, 2, 1], strides=[1, 2, 2, 1], padding='SAME')\n",
    "#layer 3\n",
    "conv3 = tf.nn.conv2d(pool2, conv3_weights, strides=[1, 1, 1, 1], padding='SAME')\n",
    "relu3 = tf.nn.relu(tf.nn.bias_add(conv3, conv3_biases))\n",
    "pool3 = tf.nn.max_pool(relu3, ksize=[1, 2, 2, 1], strides=[1, 2, 2, 1], padding='SAME')\n",
    "#layer 4    \n",
    "pool_shape = pool3.get_shape().as_list()\n",
    "reshaped = tf.reshape(pool3, [-1, pool_shape[1] * pool_shape[2] * pool_shape[3]])\n",
    "y = tf.add(tf.matmul(reshaped, fc1_weights), fc1_biases, name=\"absolute_output\")\n",
    "\n",
    "# Define loss and optimizer\n",
    "cross_entropy = tf.reduce_mean(tf.nn.softmax_cross_entropy_with_logits(y, y_))\n",
    "train_step = tf.train.AdamOptimizer(learning_rate=0.001).minimize(cross_entropy)\n",
    "\n",
    "# Train the model\n",
    "sess = tf.InteractiveSession()\n",
    "tf.initialize_all_variables().run()\n",
    "for i in tqdm(range(num_epochs)):\n",
    "    for i in range(total_batch):\n",
    "        batch_x, batch_y = mnist.train.next_batch(batch_size)\n",
    "        sess.run(train_step, feed_dict={x: batch_x, y_: batch_y})\n",
    "\n",
    "# Test trained model\n",
    "correct_prediction = tf.equal(tf.argmax(y, 1), tf.argmax(y_, 1))\n",
    "accuracy = tf.reduce_mean(tf.cast(correct_prediction, tf.float32))\n",
    "test_acc = []\n",
    "train_acc = []\n",
    "for i in tqdm(range(total_batch)):\n",
    "    batch_x, batch_y = mnist.test.next_batch(batch_size)\n",
    "    test_acc.append(sess.run(accuracy, feed_dict={x: batch_x, y_: batch_y}))\n",
    "    batch_x, batch_y = mnist.train.next_batch(batch_size)\n",
    "    train_acc.append(sess.run(accuracy, feed_dict={x: batch_x, y_: batch_y}))\n",
    "print np.mean(train_acc), np.mean(test_acc)"
   ]
  },
  {
   "cell_type": "code",
   "execution_count": null,
   "metadata": {
    "collapsed": false,
    "scrolled": false
   },
   "outputs": [],
   "source": [
    "#Run LRP with Deep Taylor Decomposition on the output of the network\n",
    "F_list = lrp.lrp(y*y_, 0, 1, return_flist=True)\n",
    "im_list = lrp.get_lrp_im(sess, F_list[-1], reshaped_input, y_, np.reshape(batch_x, (batch_size, 28,28, 1)), batch_y)\n",
    "#Visualize the produced heatmaps\n",
    "for b, im in zip(batch_x, im_list):\n",
    "    plt.figure()\n",
    "    plt.subplot(1,2,1)\n",
    "    plt.imshow(np.reshape(b, (28,28)))\n",
    "    plt.subplot(1,2,2)\n",
    "    plt.imshow(np.reshape(im, (28,28)), cmap=\"gray\")\n",
    "    plt.show()"
   ]
  },
  {
   "cell_type": "code",
   "execution_count": null,
   "metadata": {
    "collapsed": true
   },
   "outputs": [],
   "source": []
  }
 ],
 "metadata": {
  "kernelspec": {
   "display_name": "Python 2",
   "language": "python",
   "name": "python2"
  },
  "language_info": {
   "codemirror_mode": {
    "name": "ipython",
    "version": 2
   },
   "file_extension": ".py",
   "mimetype": "text/x-python",
   "name": "python",
   "nbconvert_exporter": "python",
   "pygments_lexer": "ipython2",
   "version": "2.7.11"
  }
 },
 "nbformat": 4,
 "nbformat_minor": 0
}
